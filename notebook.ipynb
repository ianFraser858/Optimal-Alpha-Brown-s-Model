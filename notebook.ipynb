{
 "cells": [
  {
   "cell_type": "code",
   "execution_count": 1,
   "metadata": {},
   "outputs": [],
   "source": [
    "import pandas as pd\n",
    "import numpy as np\n",
    "from scipy.optimize import minimize"
   ]
  },
  {
   "cell_type": "code",
   "execution_count": 2,
   "metadata": {},
   "outputs": [],
   "source": [
    "df = pd.read_excel('Seasonality.xlsx')\n",
    "# drops the extra title row\n",
    "df.drop(df.index[0], axis=0, inplace=True)\n",
    "# resets the index to start at 0. Could probably just make the datetime the index if you wanted.\n",
    "df.reset_index(inplace=True, drop=True)"
   ]
  },
  {
   "cell_type": "code",
   "execution_count": 3,
   "metadata": {},
   "outputs": [],
   "source": [
    "# supply an initial value to alpha\n",
    "alpha = 0.3"
   ]
  },
  {
   "cell_type": "code",
   "execution_count": 4,
   "metadata": {},
   "outputs": [],
   "source": [
    "# pulls the actual values into a numpy array\n",
    "array_of_actual_values = df.Seasonally.values"
   ]
  },
  {
   "cell_type": "code",
   "execution_count": 5,
   "metadata": {},
   "outputs": [],
   "source": [
    "def full_algorithim(alpha, init_data):\n",
    "    # values predicted using the single-equation recursive form of Brown’s model\n",
    "    y = np.empty(len(init_data), float)\n",
    "    # error values (actual - predicted)\n",
    "    z = np.empty(len(init_data), float)\n",
    "    \n",
    "    for i in range(0, len(init_data)):\n",
    "        # sets the first two values in predicted to be the first value in actual\n",
    "        if i < 2:\n",
    "            y[i] = init_data[0]\n",
    "        else:\n",
    "            y[i] = 2 * init_data[i-1] - init_data[i-2] - 2 * (1-alpha) * z[i-1] + ((1-alpha)**2) * z[i-2]\n",
    "            \n",
    "        z[i] = init_data[i] - y[i]\n",
    "        \n",
    "    return np.sqrt(np.mean(np.square(z)))"
   ]
  },
  {
   "cell_type": "code",
   "execution_count": 7,
   "metadata": {},
   "outputs": [],
   "source": [
    "result = minimize(full_algorithim, alpha, array_of_actual_values, bounds=[(0,1)])"
   ]
  },
  {
   "cell_type": "code",
   "execution_count": 8,
   "metadata": {},
   "outputs": [
    {
     "name": "stdout",
     "output_type": "stream",
     "text": [
      "0.47115429855026236\n"
     ]
    }
   ],
   "source": [
    "# there's a tiny amount of variation in the optimal value based on the initial value for alpha\n",
    "[alpha_opt] = result.x\n",
    "print(alpha_opt)"
   ]
  },
  {
   "cell_type": "code",
   "execution_count": 11,
   "metadata": {},
   "outputs": [],
   "source": [
    "def algebraic_tranformation(df, columnNameActual, columnNamePredicted, columnNameErrors, alpha):\n",
    "    df_new = df \n",
    "    \n",
    "    for i in range(0, len(df_new)):\n",
    "        if i < 2:\n",
    "            # sets the first two values in Forecast to be the first value in Seasonally\n",
    "            df_new.loc[i, columnNamePredicted] = df_new.loc[0, columnNameActual]\n",
    "        else:\n",
    "            df_new.loc[i, columnNamePredicted] = 2 * df_new.loc[i-1, columnNameActual] - df_new.loc[i-2, columnNameActual] - 2 * (1-alpha) * df_new.loc[i-1, columnNameErrors] + ((1-alpha)**2 * df_new.loc[i-2, columnNameErrors])\n",
    "        # calculates the error, y_actual - y_predicted\n",
    "        df_new.loc[i, columnNameErrors] = df_new.loc[i, columnNameActual] - df_new.loc[i, columnNamePredicted]\n",
    "        \n",
    "    return df_new"
   ]
  },
  {
   "cell_type": "code",
   "execution_count": 12,
   "metadata": {},
   "outputs": [],
   "source": [
    "df_new = algebraic_tranformation(df, 'Seasonally', 'Forecast', 'Error', alpha_opt)"
   ]
  },
  {
   "cell_type": "code",
   "execution_count": 14,
   "metadata": {},
   "outputs": [
    {
     "data": {
      "text/html": [
       "<div>\n",
       "<style scoped>\n",
       "    .dataframe tbody tr th:only-of-type {\n",
       "        vertical-align: middle;\n",
       "    }\n",
       "\n",
       "    .dataframe tbody tr th {\n",
       "        vertical-align: top;\n",
       "    }\n",
       "\n",
       "    .dataframe thead th {\n",
       "        text-align: right;\n",
       "    }\n",
       "</style>\n",
       "<table border=\"1\" class=\"dataframe\">\n",
       "  <thead>\n",
       "    <tr style=\"text-align: right;\">\n",
       "      <th></th>\n",
       "      <th>Date</th>\n",
       "      <th>Quarter</th>\n",
       "      <th>Original</th>\n",
       "      <th>Trend-Cycle</th>\n",
       "      <th>Ratio</th>\n",
       "      <th>Seasonal</th>\n",
       "      <th>Seasonally</th>\n",
       "      <th>Forecast</th>\n",
       "      <th>Error</th>\n",
       "    </tr>\n",
       "  </thead>\n",
       "  <tbody>\n",
       "    <tr>\n",
       "      <th>0</th>\n",
       "      <td>1983-12-01</td>\n",
       "      <td>4.0</td>\n",
       "      <td>147.6</td>\n",
       "      <td>NaN</td>\n",
       "      <td>NaN</td>\n",
       "      <td>0.686136</td>\n",
       "      <td>215.118</td>\n",
       "      <td>215.117734</td>\n",
       "      <td>0.000000</td>\n",
       "    </tr>\n",
       "    <tr>\n",
       "      <th>1</th>\n",
       "      <td>1984-03-01</td>\n",
       "      <td>1.0</td>\n",
       "      <td>251.8</td>\n",
       "      <td>NaN</td>\n",
       "      <td>NaN</td>\n",
       "      <td>1.02386</td>\n",
       "      <td>245.931</td>\n",
       "      <td>215.117734</td>\n",
       "      <td>30.813656</td>\n",
       "    </tr>\n",
       "    <tr>\n",
       "      <th>2</th>\n",
       "      <td>1984-06-01</td>\n",
       "      <td>2.0</td>\n",
       "      <td>273.1</td>\n",
       "      <td>229.363</td>\n",
       "      <td>1.19069</td>\n",
       "      <td>1.1605</td>\n",
       "      <td>235.329</td>\n",
       "      <td>244.153707</td>\n",
       "      <td>-8.824883</td>\n",
       "    </tr>\n",
       "    <tr>\n",
       "      <th>3</th>\n",
       "      <td>1984-09-01</td>\n",
       "      <td>3.0</td>\n",
       "      <td>249.1</td>\n",
       "      <td>224.5</td>\n",
       "      <td>1.10958</td>\n",
       "      <td>1.1295</td>\n",
       "      <td>220.541</td>\n",
       "      <td>242.678156</td>\n",
       "      <td>-22.137602</td>\n",
       "    </tr>\n",
       "    <tr>\n",
       "      <th>4</th>\n",
       "      <td>1984-12-01</td>\n",
       "      <td>4.0</td>\n",
       "      <td>139.3</td>\n",
       "      <td>219.062</td>\n",
       "      <td>0.635892</td>\n",
       "      <td>0.686136</td>\n",
       "      <td>203.021</td>\n",
       "      <td>226.698911</td>\n",
       "      <td>-23.677906</td>\n",
       "    </tr>\n",
       "  </tbody>\n",
       "</table>\n",
       "</div>"
      ],
      "text/plain": [
       "        Date  Quarter Original Trend-Cycle     Ratio  Seasonal Seasonally  \\\n",
       "0 1983-12-01      4.0    147.6         NaN       NaN  0.686136    215.118   \n",
       "1 1984-03-01      1.0    251.8         NaN       NaN   1.02386    245.931   \n",
       "2 1984-06-01      2.0    273.1     229.363   1.19069    1.1605    235.329   \n",
       "3 1984-09-01      3.0    249.1       224.5   1.10958    1.1295    220.541   \n",
       "4 1984-12-01      4.0    139.3     219.062  0.635892  0.686136    203.021   \n",
       "\n",
       "     Forecast      Error  \n",
       "0  215.117734   0.000000  \n",
       "1  215.117734  30.813656  \n",
       "2  244.153707  -8.824883  \n",
       "3  242.678156 -22.137602  \n",
       "4  226.698911 -23.677906  "
      ]
     },
     "execution_count": 14,
     "metadata": {},
     "output_type": "execute_result"
    }
   ],
   "source": [
    "df_new.head()"
   ]
  },
  {
   "cell_type": "code",
   "execution_count": 19,
   "metadata": {},
   "outputs": [],
   "source": [
    "# removes time from date column\n",
    "df_new.Date = pd.to_datetime(df.Date).dt.date\n",
    "\n",
    "with pd.ExcelWriter('Seasonality-with-Forecast-Errors.xlsx', engine='openpyxl', mode='w') as writer:\n",
    "    df_new.to_excel(writer, index=False)"
   ]
  },
  {
   "cell_type": "code",
   "execution_count": null,
   "metadata": {},
   "outputs": [],
   "source": []
  }
 ],
 "metadata": {
  "kernelspec": {
   "display_name": "Python 3",
   "language": "python",
   "name": "python3"
  },
  "language_info": {
   "codemirror_mode": {
    "name": "ipython",
    "version": 3
   },
   "file_extension": ".py",
   "mimetype": "text/x-python",
   "name": "python",
   "nbconvert_exporter": "python",
   "pygments_lexer": "ipython3",
   "version": "3.7.3"
  }
 },
 "nbformat": 4,
 "nbformat_minor": 2
}
